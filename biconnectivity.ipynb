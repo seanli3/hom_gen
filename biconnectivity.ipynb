{
 "cells": [
  {
   "cell_type": "code",
   "execution_count": 32,
   "outputs": [],
   "source": [
    "import numpy as np\n",
    "import networkx as nx\n",
    "import torch\n",
    "from torch_geometric.data import Data\n",
    "from ogb.lsc.pcqm4mv2_pyg import PygPCQM4Mv2Dataset\n",
    "from functools import lru_cache\n"
   ],
   "metadata": {
    "collapsed": false,
    "pycharm": {
     "name": "#%%\n"
    }
   }
  },
  {
   "cell_type": "code",
   "execution_count": null,
   "outputs": [],
   "source": [],
   "metadata": {
    "collapsed": false,
    "pycharm": {
     "name": "#%%\n"
    }
   }
  },
  {
   "cell_type": "code",
   "execution_count": 33,
   "outputs": [],
   "source": [
    "def counter_example_1_1(k, m):\n",
    "    n = 2 * k * m + 1\n",
    "    edge_index_1_1 = np.arange(2*k*m) + 1\n",
    "    edge_index_1_2 = np.mod(edge_index_1_1, 2 * k * m) + 1\n",
    "    edge_index_1 = np.concatenate((edge_index_1_1[None, :], edge_index_1_2[None, :]), axis=0)\n",
    "\n",
    "    edge_index_2_1 = np.zeros(2*k*m, dtype=np.longlong) + n\n",
    "    edge_index_2_mask = np.mod(edge_index_1_1, m) == 0\n",
    "    edge_index_2 = np.concatenate((edge_index_2_1[edge_index_2_mask][None, :], edge_index_1_1[edge_index_2_mask][None, :]), axis=0)\n",
    "\n",
    "    edge_index = np.concatenate((edge_index_1, edge_index_2), axis=1)\n",
    "\n",
    "    G = nx.Graph()\n",
    "    G.add_edges_from((edge_index - 1).T.tolist())\n",
    "    return G\n",
    "\n",
    "def counter_example_1_2(k, m):\n",
    "    n = 2 * k * m + 1\n",
    "    edge_index_1_1 = np.arange(k * m) + 1\n",
    "    edge_index_1_2 = np.mod(edge_index_1_1, k * m) + 1\n",
    "    edge_index_1 = np.concatenate((edge_index_1_1[None, :], edge_index_1_2[None, :]), axis=0)\n",
    "\n",
    "    edge_index_2_1 = np.zeros(2 * k * m, dtype=np.longlong) + n\n",
    "    edge_index_2_1_1 = np.arange(2*k*m) + 1\n",
    "    edge_index_2_mask = np.mod(edge_index_2_1_1, m) == 0\n",
    "    edge_index_2 = np.concatenate(\n",
    "        (edge_index_2_1[edge_index_2_mask][None, :], edge_index_2_1_1[edge_index_2_mask][None, :]), axis=0)\n",
    "\n",
    "    edge_index_3_1 = edge_index_1_1 + k * m\n",
    "    edge_index_3_2 = np.mod(edge_index_1_1, k * m) + k * m + 1\n",
    "    edge_index_3 = np.concatenate(\n",
    "        (edge_index_3_1[None, :], edge_index_3_2[None, :]), axis=0\n",
    "    )\n",
    "\n",
    "    edge_index = np.concatenate((edge_index_1, edge_index_2, edge_index_3), axis=1)\n",
    "\n",
    "    G = nx.Graph()\n",
    "    G.add_edges_from((edge_index - 1).T.tolist())\n",
    "    return G\n",
    "\n",
    "def counter_example_2_1(m):\n",
    "    n = 2 * m\n",
    "    edge_index_1_1 = np.arange(2 * m) + 1\n",
    "    edge_index_1_2 = np.mod(edge_index_1_1, n) + 1\n",
    "\n",
    "    edge_index = np.concatenate((edge_index_1_1[None, :], edge_index_1_2[None, :]), axis=0)\n",
    "    edge_index = np.concatenate((edge_index, np.array([m, 2*m], dtype=np.longlong)[:, None]), axis=1)\n",
    "\n",
    "    G = nx.Graph()\n",
    "    G.add_edges_from((edge_index - 1).T.tolist())\n",
    "    return G\n",
    "\n",
    "def counter_example_2_2(m):\n",
    "    n = 2 * m\n",
    "    edge_index_1_1 = np.arange(m) + 1\n",
    "    edge_index_1_2 = np.mod(edge_index_1_1, m) + 1\n",
    "\n",
    "    edge_index = np.concatenate((edge_index_1_1[None, :], edge_index_1_2[None, :]), axis=0)\n",
    "    edge_index = np.concatenate((edge_index, np.array([m, 2 * m], dtype=np.longlong)[:, None]), axis=1)\n",
    "\n",
    "    edge_index_3_1 = np.arange(m) + 1\n",
    "    edge_index_3_2 = np.mod(edge_index_3_1, m) + m + 1\n",
    "    edge_index_3 = np.concatenate(((edge_index_3_1+m)[None, :], edge_index_3_2[None, :]), axis=0)\n",
    "    edge_index = np.concatenate((edge_index, edge_index_3), axis=1)\n",
    "\n",
    "    G = nx.Graph()\n",
    "    G.add_edges_from((edge_index - 1).T.tolist())\n",
    "    return G\n",
    "\n",
    "def counter_example_3_component(n, d, out_deg, base_index):\n",
    "    node_degree_list = np.zeros(n, dtype=np.longlong)\n",
    "    edge_index = []\n",
    "    node_degree_list[:out_deg] = 1\n",
    "    choose_list_i = np.argsort(node_degree_list)\n",
    "    for i in choose_list_i:\n",
    "        # np.random.shuffle(node_index_list)\n",
    "        if node_degree_list[i] == d:\n",
    "            continue\n",
    "        choose_list_j = np.argsort(node_degree_list)\n",
    "        for j in choose_list_j:\n",
    "            if j == i:\n",
    "                continue\n",
    "            if node_degree_list[j] < d:\n",
    "                edge_index.append((i + base_index, j + base_index))\n",
    "                node_degree_list[j] += 1\n",
    "                node_degree_list[i] += 1\n",
    "            if node_degree_list[i] == d:\n",
    "                break\n",
    "\n",
    "    return edge_index\n",
    "\n",
    "def counter_exmple_3():\n",
    "    # (1) sample the number of connected components\n",
    "    total_nodes = 40\n",
    "    n_components = np.random.choice([2,3,4])\n",
    "    # n_components = 4\n",
    "    # np.random.seed(10)\n",
    "    components_tree = nx.random_tree(n_components)\n",
    "    components_tree_edge_list = list(components_tree.edges())\n",
    "    components_tree_degree_list = list(components_tree.degree())\n",
    "\n",
    "    avg_n_max = total_nodes // n_components\n",
    "    avg_n_min_odd = 7\n",
    "    avg_n_min_even = 6\n",
    "\n",
    "    edge_index_list = []\n",
    "    base_index = [0]\n",
    "    all_d = np.random.choice([3])\n",
    "    for i in range(n_components):\n",
    "        cur_d = all_d\n",
    "        cur_ed = components_tree_degree_list[i][1]\n",
    "\n",
    "        if cur_ed % 2 == 1:\n",
    "            cur_n = np.random.choice(np.arange(start=max(avg_n_min_odd, (cur_d+cur_ed+1)//2*2+1), stop=avg_n_max+2, step=2))\n",
    "        else:\n",
    "            cur_n = np.random.choice(np.arange(start=max(avg_n_min_even, ((cur_d+cur_ed+1)//2+1)*2), stop=avg_n_max+2, step=2))\n",
    "\n",
    "        connect_flag = True\n",
    "        while connect_flag:\n",
    "            g_edge_index = counter_example_3_component(cur_n, cur_d, cur_ed, base_index[i])\n",
    "            G = nx.Graph()\n",
    "            G.add_edges_from(g_edge_index)\n",
    "            if nx.is_connected(G):\n",
    "                connect_flag = False\n",
    "                edge_index_list.extend(g_edge_index)\n",
    "                base_index.append(base_index[-1] + cur_n)\n",
    "\n",
    "    # (2) connect components\n",
    "    last_degree_list = np.ones(base_index[-1])\n",
    "    for pair_i, pair_j in components_tree_edge_list:\n",
    "        i_out_deg = components_tree_degree_list[pair_i][1]\n",
    "        j_out_deg = components_tree_degree_list[pair_j][1]\n",
    "\n",
    "        to_i = 0\n",
    "        to_j = 0\n",
    "        for i in range(i_out_deg):\n",
    "            if last_degree_list[i+base_index[pair_i]] > 0:\n",
    "                to_i = i+base_index[pair_i]\n",
    "                last_degree_list[i+base_index[pair_i]] -= 1\n",
    "                break\n",
    "        for j in range(j_out_deg):\n",
    "            if last_degree_list[j + base_index[pair_j]] > 0:\n",
    "                to_j = j+base_index[pair_j]\n",
    "                last_degree_list[j + base_index[pair_j]] -= 1\n",
    "                break\n",
    "        edge_index_list.append((to_i, to_j))\n",
    "\n",
    "    G = nx.Graph()\n",
    "    G.add_edges_from(edge_index_list)\n",
    "    return G"
   ],
   "metadata": {
    "collapsed": false,
    "pycharm": {
     "name": "#%%\n"
    }
   }
  },
  {
   "cell_type": "code",
   "execution_count": 34,
   "outputs": [],
   "source": [
    "def generate_cut_examples():\n",
    "    func_dict = {\n",
    "        0: counter_example_1_1,\n",
    "        1: counter_example_1_2,\n",
    "        2: counter_example_2_1,\n",
    "        3: counter_example_2_2,\n",
    "        4: counter_exmple_3,\n",
    "    }\n",
    "\n",
    "    index = int(np.random.choice(5, 1, p=[0.2,0.2,0.2,0.2,0.2]))\n",
    "    if index == 4:\n",
    "        return func_dict[index]()\n",
    "    elif index > 1:\n",
    "        m = int(np.random.choice(2) + 3)\n",
    "        return func_dict[index](m)\n",
    "    else:\n",
    "        m = int(np.random.choice(2) + 3)\n",
    "        k = int(np.random.choice(2) + 1)\n",
    "        return func_dict[index](k, m)"
   ],
   "metadata": {
    "collapsed": false,
    "pycharm": {
     "name": "#%%\n"
    }
   }
  },
  {
   "cell_type": "code",
   "execution_count": 35,
   "outputs": [],
   "source": [
    "def convert_graph_to_item(graph, item):\n",
    "    new_item = Data()\n",
    "    G_int = nx.convert_node_labels_to_integers(graph)\n",
    "    G = G_int.to_directed() if not nx.is_directed(G_int) else G_int\n",
    "    edge_index = torch.tensor(list(G.edges)).t().contiguous()\n",
    "\n",
    "    new_item.edge_index = edge_index\n",
    "    new_item.edge_attr = torch.zeros(new_item.edge_index.shape[1], 3).to(item.edge_attr)\n",
    "    new_item.__num_nodes__ = G.number_of_nodes()\n",
    "    new_item.idx = item.idx\n",
    "    new_item.x = torch.ones(new_item.num_nodes, 9).to(item.x)\n",
    "    new_item.y = item.y\n",
    "    # new_item.resistance_distance = calculate_resistance_distance_online(G_int, new_item.num_nodes)\n",
    "    # new_item.resistance_distance = torch.zeros(new_item.x.shape[0], 130)\n",
    "    return new_item\n"
   ],
   "metadata": {
    "collapsed": false,
    "pycharm": {
     "name": "#%%\n"
    }
   }
  },
  {
   "cell_type": "code",
   "execution_count": 36,
   "outputs": [],
   "source": [
    "@torch.jit.script\n",
    "def convert_to_single_emb(x, offset: int = 512):\n",
    "    feature_num = x.size(1) if len(x.size()) > 1 else 1\n",
    "    feature_offset = 1 + torch.arange(0, feature_num * offset, offset, dtype=torch.long)\n",
    "    x = x + feature_offset\n",
    "    return x"
   ],
   "metadata": {
    "collapsed": false,
    "pycharm": {
     "name": "#%%\n"
    }
   }
  },
  {
   "cell_type": "code",
   "execution_count": 79,
   "outputs": [],
   "source": [
    "def preprocess_item_bridge(item):\n",
    "    new_graph = generate_cut_examples()\n",
    "    item = convert_graph_to_item(new_graph, item)\n",
    "\n",
    "    edge_attr, edge_index, x = item.edge_attr, item.edge_index, item.x\n",
    "    # resistance_distance = item.resistance_distance\n",
    "    N = x.size(0)\n",
    "    x = convert_to_single_emb(x)\n",
    "\n",
    "    # node adj matrix [N, N] bool\n",
    "    adj = torch.zeros([N, N], dtype=torch.bool)\n",
    "    adj[edge_index[0, :], edge_index[1, :]] = True\n",
    "\n",
    "    # edge feature here\n",
    "    if len(edge_attr.size()) == 1:\n",
    "        edge_attr = edge_attr[:, None]\n",
    "    attn_edge_type = torch.zeros([N, N, edge_attr.size(-1)], dtype=torch.long)\n",
    "    attn_edge_type[edge_index[0, :], edge_index[1, :]] = (\n",
    "        convert_to_single_emb(edge_attr) + 1\n",
    "    )\n",
    "\n",
    "    # shortest_path_result, path = algos.floyd_warshall(adj.numpy())\n",
    "    # max_dist = np.amax(shortest_path_result)\n",
    "    # edge_input = algos.gen_edge_input(max_dist, path, attn_edge_type.numpy())\n",
    "    # spatial_pos = torch.from_numpy((shortest_path_result)).long()\n",
    "    # res_pos = resistance_distance[:, :N]\n",
    "    attn_bias = torch.zeros([N + 1, N + 1], dtype=torch.float)  # with graph token\n",
    "\n",
    "    G = nx.from_numpy_array(adj.numpy())\n",
    "    g_bridge_list = list(nx.bridges(G))\n",
    "    bridge_label = torch.zeros([N, N], dtype=torch.long)\n",
    "    bridge_label[edge_index[0, :], edge_index[1, :]] = -1\n",
    "    if len(g_bridge_list) > 0:\n",
    "        g_bridge_list = torch.Tensor(g_bridge_list).long()\n",
    "        bridge_label[g_bridge_list[:, 0], g_bridge_list[:, 1]] = 1\n",
    "        bridge_label[g_bridge_list[:, 1], g_bridge_list[:, 0]] = 1\n",
    "    item.y = bridge_label\n",
    "\n",
    "    # combine\n",
    "    item.x = x\n",
    "    item.attn_bias = attn_bias\n",
    "    item.attn_edge_type = attn_edge_type\n",
    "    # item.spatial_pos = spatial_pos\n",
    "    # item.res_pos = res_pos\n",
    "    item.in_degree = adj.long().sum(dim=1).view(-1)\n",
    "    item.out_degree = item.in_degree  # for undirected graph\n",
    "    # item.edge_input = torch.from_numpy(edge_input).long()\n",
    "\n",
    "    return item\n",
    "\n",
    "def preprocess_item_articulation_point(item):\n",
    "    new_graph = generate_cut_examples()\n",
    "    item = convert_graph_to_item(new_graph, item)\n",
    "\n",
    "    edge_attr, edge_index, x = item.edge_attr, item.edge_index, item.x\n",
    "    # resistance_distance = item.resistance_distance\n",
    "    N = x.size(0)\n",
    "    x = convert_to_single_emb(x)\n",
    "\n",
    "    # node adj matrix [N, N] bool\n",
    "    adj = torch.zeros([N, N], dtype=torch.bool)\n",
    "    adj[edge_index[0, :], edge_index[1, :]] = True\n",
    "\n",
    "    # edge feature here\n",
    "    if len(edge_attr.size()) == 1:\n",
    "        edge_attr = edge_attr[:, None]\n",
    "    attn_edge_type = torch.zeros([N, N, edge_attr.size(-1)], dtype=torch.long)\n",
    "    attn_edge_type[edge_index[0, :], edge_index[1, :]] = (\n",
    "            convert_to_single_emb(edge_attr) + 1\n",
    "    )\n",
    "\n",
    "    # shortest_path_result, path = algos.floyd_warshall(adj.numpy())\n",
    "    # max_dist = np.amax(shortest_path_result)\n",
    "    # edge_input = algos.gen_edge_input(max_dist, path, attn_edge_type.numpy())\n",
    "    # spatial_pos = torch.from_numpy((shortest_path_result)).long()\n",
    "    # res_pos = resistance_distance[:, :N]\n",
    "    attn_bias = torch.zeros([N + 1, N + 1], dtype=torch.float)  # with graph token\n",
    "\n",
    "    G = nx.from_numpy_array(adj.numpy())\n",
    "    g_ant_points_list = list(nx.articulation_points(G))\n",
    "    y = torch.zeros(item.x.shape[0]) - 1.0\n",
    "    y[g_ant_points_list] = 1.0\n",
    "    item.y = y\n",
    "\n",
    "    # combine\n",
    "    item.x = x\n",
    "    item.attn_bias = attn_bias\n",
    "    item.attn_edge_type = attn_edge_type\n",
    "    # item.spatial_pos = spatial_pos\n",
    "    # item.res_pos = res_pos\n",
    "    item.in_degree = adj.long().sum(dim=1).view(-1)\n",
    "    item.out_degree = item.in_degree  # for undirected graph\n",
    "    # item.edge_input = torch.from_numpy(edge_input).long()\n",
    "\n",
    "    return item\n"
   ],
   "metadata": {
    "collapsed": false,
    "pycharm": {
     "name": "#%%\n"
    }
   }
  },
  {
   "cell_type": "code",
   "execution_count": 80,
   "outputs": [],
   "source": [
    "\n",
    "class MyPygPCQM4MDatasetBridge(PygPCQM4Mv2Dataset):\n",
    "    def download(self):\n",
    "        super(MyPygPCQM4MDatasetBridge, self).download()\n",
    "\n",
    "    def process(self):\n",
    "        super(MyPygPCQM4MDatasetBridge, self).process()\n",
    "\n",
    "    @lru_cache(maxsize=16)\n",
    "    def __getitem__(self, idx):\n",
    "        item = self.get(self.indices()[idx])\n",
    "        item.idx = idx\n",
    "        return preprocess_item_bridge(item)\n",
    "\n",
    "class MyPygPCQM4MDatasetAP(PygPCQM4Mv2Dataset):\n",
    "    def download(self):\n",
    "        super(MyPygPCQM4MDatasetAP, self).download()\n",
    "\n",
    "    def process(self):\n",
    "        super(MyPygPCQM4MDatasetAP, self).process()\n",
    "\n",
    "    @lru_cache(maxsize=16)\n",
    "    def __getitem__(self, idx):\n",
    "        item = self.get(self.indices()[idx])\n",
    "        item.idx = idx\n",
    "        return preprocess_item_articulation_point(item)\n",
    "\n"
   ],
   "metadata": {
    "collapsed": false,
    "pycharm": {
     "name": "#%%\n"
    }
   }
  },
  {
   "cell_type": "code",
   "execution_count": 202,
   "outputs": [],
   "source": [
    "dataset = MyPygPCQM4MDatasetBridge()"
   ],
   "metadata": {
    "collapsed": false,
    "pycharm": {
     "name": "#%%\n"
    }
   }
  },
  {
   "cell_type": "code",
   "execution_count": 216,
   "outputs": [
    {
     "data": {
      "text/plain": "tensor(4)"
     },
     "execution_count": 216,
     "metadata": {},
     "output_type": "execute_result"
    }
   ],
   "source": [
    "(dataset[0].y == 1).sum()"
   ],
   "metadata": {
    "collapsed": false,
    "pycharm": {
     "name": "#%%\n"
    }
   }
  },
  {
   "cell_type": "code",
   "execution_count": 217,
   "outputs": [
    {
     "data": {
      "text/plain": "<Figure size 640x480 with 1 Axes>",
      "image/png": "[encoded data removed]"
     },
     "metadata": {},
     "output_type": "display_data"
    }
   ],
   "source": [
    "nx.draw_networkx(to_networkx(dataset[0]))"
   ],
   "metadata": {
    "collapsed": false,
    "pycharm": {
     "name": "#%%\n"
    }
   }
  },
  {
   "cell_type": "code",
   "execution_count": 190,
   "outputs": [
    {
     "data": {
      "text/plain": "<Figure size 640x480 with 1 Axes>",
      "image/png": "[encoded data removed]"
     },
     "metadata": {},
     "output_type": "display_data"
    }
   ],
   "source": [
    "nx.draw_networkx(to_networkx(unique_g[15]))"
   ],
   "metadata": {
    "collapsed": false,
    "pycharm": {
     "name": "#%%\n"
    }
   }
  },
  {
   "cell_type": "code",
   "execution_count": null,
   "outputs": [],
   "source": [],
   "metadata": {
    "collapsed": false,
    "pycharm": {
     "name": "#%%\n"
    }
   }
  }
 ],
 "metadata": {
  "kernelspec": {
   "display_name": "Python 3",
   "language": "python",
   "name": "python3"
  },
  "language_info": {
   "codemirror_mode": {
    "name": "ipython",
    "version": 3
   },
   "file_extension": ".py",
   "mimetype": "text/x-python",
   "name": "python",
   "nbconvert_exporter": "python",
   "pygments_lexer": "ipython3",
   "version": "3.8.11"
  }
 },
 "nbformat": 4,
 "nbformat_minor": 1
}